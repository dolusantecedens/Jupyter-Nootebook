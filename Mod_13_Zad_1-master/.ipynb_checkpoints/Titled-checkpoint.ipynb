{
 "cells": [
  {
   "cell_type": "code",
   "execution_count": 28,
   "id": "1d4c3b3a",
   "metadata": {},
   "outputs": [],
   "source": [
    "import pandas as pd\n",
    "#Fertility rate \tLife expectancy at birth\n",
    "fertility_life=[(1.3,76.84878),(1.95,81.40732),(2.466,77.57895),(1.6,74.16341),(2.952,68.84907),(1.801,73.88595),\n",
    "               (1.34,75.26829),(1.34,76.26098),(1.63,80.57244),(2.326,65.46259),(2.436,67.5482),(6.563,55.02451),\n",
    "               (1.283,76.2799),(1.43,82.29024),(1.988,69.80695),(1.61,81.40112),(1.921,82.19756),(2.4,74.22683),\n",
    "               (1.495,80.12888),(4.705,45.55095)]\n",
    "df=pd.DataFrame(fertility_life)\n",
    "rates=list(map(lambda x:x[0],fertility_life))\n",
    "life=list(map(lambda x:x[1],fertility_life))"
   ]
  },
  {
   "cell_type": "code",
   "execution_count": 29,
   "id": "031528c3",
   "metadata": {},
   "outputs": [
    {
     "name": "stdout",
     "output_type": "stream",
     "text": [
      "73.237646\n"
     ]
    }
   ],
   "source": [
    "mean=sum(life)/len(life)\n",
    "print(mean)"
   ]
  },
  {
   "cell_type": "code",
   "execution_count": 30,
   "id": "598b4ee7",
   "metadata": {},
   "outputs": [
    {
     "name": "stdout",
     "output_type": "stream",
     "text": [
      "75.764635\n"
     ]
    }
   ],
   "source": [
    "Q2=(sorted(life)[int(len(life)/2)-1]+sorted(life)[int((len(life)/2))])/2\n",
    "print(Q2)"
   ]
  },
  {
   "cell_type": "code",
   "execution_count": 38,
   "id": "2dcf07ba",
   "metadata": {},
   "outputs": [
    {
     "name": "stdout",
     "output_type": "stream",
     "text": [
      "[45.55095, 55.02451, 65.46259, 67.5482, 68.84907, 69.80695, 73.88595, 74.16341, 74.22683, 75.26829, 76.26098, 76.2799, 76.84878, 77.57895, 80.12888, 80.57244, 81.40112, 81.40732, 82.19756, 82.29024]\n",
      "77.66666666666667\n"
     ]
    }
   ],
   "source": [
    "life1=list(filter(lambda x:x<55, life))\n",
    "life2=list(filter(lambda x:55<x<65, life))\n",
    "life3=list(filter(lambda x:65<x<75, life))\n",
    "life4=list(filter(lambda x:75<x<85, life))\n",
    "mode=75+(((len(life4)-len(life3))/((len(life4)-len(life3))+len(life4)))*10)\n",
    "print(mode)"
   ]
  },
  {
   "cell_type": "code",
   "execution_count": 42,
   "id": "ad16640b",
   "metadata": {},
   "outputs": [
    {
     "name": "stdout",
     "output_type": "stream",
     "text": [
      "-9.943704446631578\n"
     ]
    }
   ],
   "source": [
    "mean2=sum(rates)/len(rates)\n",
    "diff_life=[x-mean for x in life]\n",
    "diff_rates=[x-mean2 for x in rates]\n",
    "covariance=sum(list(map(lambda x,y:x*y,diff_life,diff_rates)))/(len(fertility_life)-1)\n",
    "print(covariance)"
   ]
  },
  {
   "cell_type": "code",
   "execution_count": 49,
   "id": "7049c5ad",
   "metadata": {},
   "outputs": [
    {
     "name": "stdout",
     "output_type": "stream",
     "text": [
      "9.39117204599668\n",
      "1.2904866727834035\n"
     ]
    }
   ],
   "source": [
    "life_std=(sum(list(map(lambda x:x**2,diff_life)))/(len(fertility_life)-1))**(1/2)\n",
    "rates_std=(sum(list(map(lambda x:x**2,diff_rates)))/(len(fertility_life)-1))**(1/2)\n",
    "print(life_std)\n",
    "print(rates_std)"
   ]
  },
  {
   "cell_type": "code",
   "execution_count": 48,
   "id": "56dc307a",
   "metadata": {},
   "outputs": [
    {
     "name": "stdout",
     "output_type": "stream",
     "text": [
      "-0.8204930122649574\n"
     ]
    }
   ],
   "source": [
    "corelation=covariance/(life_std*rates_std)\n",
    "print(corelation)"
   ]
  },
  {
   "cell_type": "markdown",
   "id": "7d7e855a",
   "metadata": {},
   "source": [
    "Pomiędzy dzietnością a średnią długością życia występuje bardzo wysoka korelacja ujemna. Może być ona spowodowana tym że umieralność wśród dzieci znacznie obniża średnią długość życia w związku z czym rodziny mają możliwość wychowania i zadbania o nowe dziecko w przypadku śmierci poprzedniego."
   ]
  },
  {
   "cell_type": "code",
   "execution_count": 51,
   "id": "95248fad",
   "metadata": {},
   "outputs": [
    {
     "name": "stdout",
     "output_type": "stream",
     "text": [
      "[69.25377784856727, 77.22151415143273]\n"
     ]
    }
   ],
   "source": [
    "confidence_life=[(mean-(9.09/(len(fertility_life)**(1/2))*1.96)),(mean+(9.09/(len(fertility_life)**(1/2))*1.96))]\n",
    "print(confidence_life)"
   ]
  },
  {
   "cell_type": "code",
   "execution_count": null,
   "id": "b711e55e",
   "metadata": {},
   "outputs": [],
   "source": []
  }
 ],
 "metadata": {
  "kernelspec": {
   "display_name": "Python 3 (ipykernel)",
   "language": "python",
   "name": "python3"
  },
  "language_info": {
   "codemirror_mode": {
    "name": "ipython",
    "version": 3
   },
   "file_extension": ".py",
   "mimetype": "text/x-python",
   "name": "python",
   "nbconvert_exporter": "python",
   "pygments_lexer": "ipython3",
   "version": "3.10.4"
  }
 },
 "nbformat": 4,
 "nbformat_minor": 5
}
